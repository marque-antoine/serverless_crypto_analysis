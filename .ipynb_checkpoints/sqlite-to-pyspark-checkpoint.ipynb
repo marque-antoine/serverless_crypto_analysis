{
 "cells": [
  {
   "cell_type": "markdown",
   "metadata": {},
   "source": [
    "#Download the sample database"
   ]
  },
  {
   "cell_type": "code",
   "execution_count": 3,
   "metadata": {
    "collapsed": false
   },
   "outputs": [
    {
     "name": "stdout",
     "output_type": "stream",
     "text": [
      "--2016-08-17 11:34:32--  https://dl.dropboxusercontent.com/s/zegtlp7q47qltdh/Chinook_Sqlite.sqlite\n",
      "Resolving dl.dropboxusercontent.com (dl.dropboxusercontent.com)... 45.58.75.165\n",
      "Connecting to dl.dropboxusercontent.com (dl.dropboxusercontent.com)|45.58.75.165|:443... connected.\n",
      "HTTP request sent, awaiting response... 200 OK\n",
      "Length: 1091584 (1.0M) [text/plain]\n",
      "Saving to: 'Chinook_Sqlite.sqlite.2'\n",
      "\n",
      "100%[======================================>] 1,091,584    328KB/s   in 3.3s   \n",
      "\n",
      "2016-08-17 11:34:37 (328 KB/s) - 'Chinook_Sqlite.sqlite.2' saved [1091584/1091584]\n",
      "\n"
     ]
    }
   ],
   "source": [
    "!wget https://dl.dropboxusercontent.com/s/zegtlp7q47qltdh/Chinook_Sqlite.sqlite"
   ]
  },
  {
   "cell_type": "markdown",
   "metadata": {},
   "source": [
    "    #Download sqlite jdbc and add it as a jar"
   ]
  },
  {
   "cell_type": "code",
   "execution_count": 4,
   "metadata": {
    "collapsed": false
   },
   "outputs": [
    {
     "name": "stdout",
     "output_type": "stream",
     "text": [
      "0B6TiSrdz-dbWQ0h0YU1pUW44Vk0   jupyter-20160627_201304.log\r\n",
      "Chinook_Sqlite.sqlite\t       kernel-pyspark-20160627_201313.log\r\n",
      "Chinook_Sqlite.sqlite.1        kernel-pyspark-20160627_203152.log\r\n",
      "Chinook_Sqlite.sqlite.2        main.o\r\n",
      "Chinook_Sqlite.sqlite?dl=0     metastore_db\r\n",
      "Chinook_Sqlite.sqlite?dl=0.1   monitor-20160627_201304.log\r\n",
      "Chinook_Sqlite.sqlite?dl=1     notebookbackup.tar\r\n",
      "Chinook_Sqlite.sqlite?dl=1.1   open?id=0B8jn6juS3IHJSjV2TUhORkFiUGs\r\n",
      "Dropbox-Uploader\t       scpsol\r\n",
      "Makefile\t\t       scpsol2\r\n",
      "abc.txt\t\t\t       sshpass\r\n",
      "battles.csv\t\t       sshpass-1.05\r\n",
      "bootstrap-20160627_201304.log  sshpass-1.05-1.el6.x86_64.rpm\r\n",
      "bootstrap-20160627_allday.log  sshpass-1.05-1.el6.x86_64.rpm.1\r\n",
      "certificate\t\t       sshpass-1.05.tar\r\n",
      "churn.all\t\t       sshpassd\r\n",
      "config.h\t\t       stamp-h1\r\n",
      "config.log\t\t       testlog\r\n",
      "config.status\t\t       text8\r\n",
      "config.status.bkp\t       text8.zip\r\n",
      "derby.log\t\t       tmptest.txt\r\n",
      "foobar.txt\t\t       usr\r\n",
      "hivets.jks\t\t       view?usp=sharing\r\n"
     ]
    }
   ],
   "source": [
    "!ls"
   ]
  },
  {
   "cell_type": "code",
   "execution_count": 5,
   "metadata": {
    "collapsed": false
   },
   "outputs": [],
   "source": [
    "from pyspark.sql import SQLContext\n",
    "sqlContext = SQLContext(sc)"
   ]
  },
  {
   "cell_type": "code",
   "execution_count": 6,
   "metadata": {
    "collapsed": false
   },
   "outputs": [],
   "source": [
    "df = sqlContext.read.format('jdbc').\\\n",
    "     options(url='jdbc:sqlite:Chinook_Sqlite.sqlite',\\\n",
    "     dbtable='employee',driver='org.sqlite.JDBC').load()"
   ]
  },
  {
   "cell_type": "code",
   "execution_count": 7,
   "metadata": {
    "collapsed": false
   },
   "outputs": [
    {
     "name": "stdout",
     "output_type": "stream",
     "text": [
      "root\n",
      " |-- EmployeeId: long (nullable = false)\n",
      " |-- LastName: string (nullable = true)\n",
      " |-- FirstName: string (nullable = true)\n",
      " |-- Title: string (nullable = true)\n",
      " |-- ReportsTo: long (nullable = true)\n",
      " |-- BirthDate: date (nullable = true)\n",
      " |-- HireDate: date (nullable = true)\n",
      " |-- Address: string (nullable = true)\n",
      " |-- City: string (nullable = true)\n",
      " |-- State: string (nullable = true)\n",
      " |-- Country: string (nullable = true)\n",
      " |-- PostalCode: string (nullable = true)\n",
      " |-- Phone: string (nullable = true)\n",
      " |-- Fax: string (nullable = true)\n",
      " |-- Email: string (nullable = true)\n",
      "\n"
     ]
    }
   ],
   "source": [
    "df.printSchema()"
   ]
  },
  {
   "cell_type": "code",
   "execution_count": null,
   "metadata": {
    "collapsed": true
   },
   "outputs": [],
   "source": []
  }
 ],
 "metadata": {
  "kernelspec": {
   "display_name": "Python 2",
   "language": "python",
   "name": "python2"
  },
  "language_info": {
   "codemirror_mode": {
    "name": "ipython",
    "version": 2
   },
   "file_extension": ".py",
   "mimetype": "text/x-python",
   "name": "python",
   "nbconvert_exporter": "python",
   "pygments_lexer": "ipython2",
   "version": "2.7.11"
  }
 },
 "nbformat": 4,
 "nbformat_minor": 0
}
